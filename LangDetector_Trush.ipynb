{
  "cells": [
    {
      "cell_type": "markdown",
      "metadata": {
        "id": "ZIP5n_Ma9Ull"
      },
      "source": [
        "## Классификатор языков "
      ]
    },
    {
      "cell_type": "code",
      "execution_count": 54,
      "metadata": {
        "id": "zajicV449j9h"
      },
      "outputs": [],
      "source": [
        "import numpy as np\n",
        "import tensorflow as tf\n",
        "from tensorflow import keras\n",
        "from tensorflow.data import Dataset\n",
        "from tensorflow.keras import Sequential, Model, Input\n",
        "from tensorflow.keras.layers import Dense, Dropout, TextVectorization, Embedding, Bidirectional, LSTM"
      ]
    },
    {
      "cell_type": "code",
      "execution_count": 55,
      "metadata": {
        "id": "fldCg2m7-NV0"
      },
      "outputs": [],
      "source": [
        "def get_mappings(langs):\n",
        "    words = []\n",
        "    tags = []\n",
        "    \n",
        "    for lang in langs:\n",
        "        with open(f\"{lang}.txt\") as fin:\n",
        "            file_words = fin.read().splitlines()\n",
        "            tags.extend([lang] * len(file_words))\n",
        "            words.extend(file_words)\n",
        "\n",
        "    return words, tags"
      ]
    },
    {
      "cell_type": "code",
      "execution_count": 61,
      "metadata": {
        "id": "-ss4CadJAIVj"
      },
      "outputs": [],
      "source": [
        "langs = [\"dutch\", \"hungarian\", \"portugese\"]\n",
        "words, tags = get_mappings(langs)\n",
        "\n",
        "num_train_words = int(0.8 * len(words))\n",
        "train_words, train_tags = words[:num_train_words], tags[:num_train_words]\n",
        "test_words, test_tags = words[num_train_words:], tags[num_train_words:]\n",
        "\n",
        "train_dataset = Dataset.from_tensor_slices((tf.convert_to_tensor(train_words, dtype=tf.string),\n",
        "                                            tf.convert_to_tensor(train_tags, dtype=tf.string)))\n",
        "\n",
        "test_dataset = Dataset.from_tensor_slices((tf.convert_to_tensor(test_words, dtype=tf.string),\n",
        "                                           tf.convert_to_tensor(test_tags, dtype=tf.string)))"
      ]
    },
    {
      "cell_type": "code",
      "execution_count": 66,
      "metadata": {
        "colab": {
          "base_uri": "https://localhost:8080/"
        },
        "id": "eQ9g9jhhWGHR",
        "outputId": "d6a52288-ace3-4a09-bd04-7b2b94f5d7de"
      },
      "outputs": [
        {
          "name": "stdout",
          "output_type": "stream",
          "text": [
            "text:  b'ik'\n",
            "label:  b'dutch'\n"
          ]
        }
      ],
      "source": [
        "for example, label in train_dataset.take(1):\n",
        "  print('text: ', example.numpy())\n",
        "  print('label: ', label.numpy())"
      ]
    },
    {
      "cell_type": "code",
      "execution_count": 82,
      "metadata": {
        "colab": {
          "base_uri": "https://localhost:8080/"
        },
        "id": "Y2KzQmhxWlby",
        "outputId": "dd051d3e-e853-4c8d-aef6-393d885ac5a8"
      },
      "outputs": [
        {
          "name": "stdout",
          "output_type": "stream",
          "text": [
            "Top-10 most frequent characters: ['' '[UNK]' 'e' 'a' 'r' 'o' 'n' 't' 'i' 's']\n",
            "Top-10 least frequent characters: ['ú' 'ê' 'ű' 'â' 'ë' 'ï' 'ô' 'è' 'õ' '7']\n"
          ]
        }
      ],
      "source": [
        "ALPHABETS_SIZE = 1000\n",
        "encoder = TextVectorization(max_tokens=ALPHABETS_SIZE, split=\"character\")\n",
        "encoder.adapt(words)\n",
        "\n",
        "vocab = np.array(encoder.get_vocabulary())\n",
        "most_frequent_chars = vocab[:10]\n",
        "least_frequent_chars = vocab[-10:]\n",
        "print(f'Top-10 most frequent characters: {most_frequent_chars}')\n",
        "print(f'Top-10 least frequent characters: {least_frequent_chars}')"
      ]
    },
    {
      "cell_type": "code",
      "execution_count": 74,
      "metadata": {
        "colab": {
          "base_uri": "https://localhost:8080/"
        },
        "id": "FFzIdWxXAJlL",
        "outputId": "069e3b37-e564-49b4-bd0d-87bd17f17aa0"
      },
      "outputs": [
        {
          "name": "stdout",
          "output_type": "stream",
          "text": [
            "Model: \"sequential_8\"\n",
            "_________________________________________________________________\n",
            " Layer (type)                Output Shape              Param #   \n",
            "=================================================================\n",
            " text_vectorization_14 (Text  (None, None)             0         \n",
            " Vectorization)                                                  \n",
            "                                                                 \n",
            " embedding_10 (Embedding)    (None, None, 64)          3008      \n",
            "                                                                 \n",
            " bidirectional_10 (Bidirecti  (None, 128)              66048     \n",
            " onal)                                                           \n",
            "                                                                 \n",
            " dense_20 (Dense)            (None, 64)                8256      \n",
            "                                                                 \n",
            " dense_21 (Dense)            (None, 3)                 195       \n",
            "                                                                 \n",
            "=================================================================\n",
            "Total params: 77,507\n",
            "Trainable params: 77,507\n",
            "Non-trainable params: 0\n",
            "_________________________________________________________________\n"
          ]
        }
      ],
      "source": [
        "model = Sequential([\n",
        "    encoder,\n",
        "    tf.keras.layers.Embedding(len(encoder.get_vocabulary()), 64, mask_zero=True),\n",
        "    tf.keras.layers.Bidirectional(tf.keras.layers.LSTM(64, return_sequences=True)),\n",
        "    tf.keras.layers.Bidirectional(tf.keras.layers.LSTM(32)),\n",
        "    tf.keras.layers.Dense(64, activation='relu'),\n",
        "    tf.keras.layers.Dropout(0.5),\n",
        "    tf.keras.layers.Dense(1)\n",
        "])\n",
        "model.compile(loss=\"categorical_crossentropy\", optimizer=\"adam\", metrics=[\"accuracy\"])\n",
        "model.summary()"
      ]
    },
    {
      "cell_type": "code",
      "execution_count": null,
      "metadata": {
        "id": "IFRO_tI7Ne7L"
      },
      "outputs": [],
      "source": [
        "history = model.fit(train_dataset, epochs=10, validation_data=test_dataset, validation_steps=30)"
      ]
    },
    {
      "cell_type": "code",
      "execution_count": null,
      "metadata": {
        "id": "kaOxLMkaRQpq"
      },
      "outputs": [],
      "source": [
        "test_loss, test_acc = model.evaluate(test_dataset)\n",
        "\n",
        "print('Test Loss:', test_loss)\n",
        "print('Test Accuracy:', test_acc)"
      ]
    },
    {
      "cell_type": "markdown",
      "metadata": {
        "id": "2eU1SrQ6YfiL"
      },
      "source": [
        "## Почти закончил, не удалось додебажить этап подачи данных в нейросеть."
      ]
    }
  ],
  "metadata": {
    "colab": {
      "collapsed_sections": [],
      "name": "LangDetector.ipynb",
      "provenance": []
    },
    "gpuClass": "standard",
    "kernelspec": {
      "display_name": "Python 3",
      "name": "python3"
    },
    "language_info": {
      "name": "python"
    },
    "orig_nbformat": 4
  },
  "nbformat": 4,
  "nbformat_minor": 0
}
